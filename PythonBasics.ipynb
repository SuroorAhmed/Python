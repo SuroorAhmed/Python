{
 "cells": [
  {
   "cell_type": "code",
   "execution_count": 5,
   "id": "88d691ee-bfae-440a-95cc-276cd044ced8",
   "metadata": {},
   "outputs": [
    {
     "name": "stdout",
     "output_type": "stream",
     "text": [
      "Hello World!\n"
     ]
    }
   ],
   "source": [
    "print (\"Hello World!\")"
   ]
  },
  {
   "cell_type": "code",
   "execution_count": 4,
   "id": "05ef2511-172c-48d9-bd85-71040476c0f0",
   "metadata": {},
   "outputs": [
    {
     "name": "stdout",
     "output_type": "stream",
     "text": [
      "3.13.5 | packaged by Anaconda, Inc. | (main, Jun 12 2025, 11:23:37) [Clang 14.0.6 ]\n"
     ]
    }
   ],
   "source": [
    "import sys\n",
    "\n",
    "print(sys.version)"
   ]
  },
  {
   "cell_type": "code",
   "execution_count": 7,
   "id": "33d1ab59-70bd-408b-95b6-eaf25b121fdd",
   "metadata": {},
   "outputs": [
    {
     "name": "stdout",
     "output_type": "stream",
     "text": [
      "Five is greater than two!\n"
     ]
    }
   ],
   "source": [
    "#Indentation is very important in Python, it is used to indicate blocks of text. Indentation example\n",
    "if 5>2:\n",
    "   print (\"Five is greater than two!\")"
   ]
  },
  {
   "cell_type": "code",
   "execution_count": 8,
   "id": "84c9e37d-5c2b-4c45-867c-5d3b6faa1283",
   "metadata": {},
   "outputs": [
    {
     "ename": "IndentationError",
     "evalue": "expected an indented block after 'if' statement on line 1 (3793329317.py, line 2)",
     "output_type": "error",
     "traceback": [
      "\u001b[0;36m  Cell \u001b[0;32mIn[8], line 2\u001b[0;36m\u001b[0m\n\u001b[0;31m    print(\"Five is greater than two!\")\u001b[0m\n\u001b[0m    ^\u001b[0m\n\u001b[0;31mIndentationError\u001b[0m\u001b[0;31m:\u001b[0m expected an indented block after 'if' statement on line 1\n"
     ]
    }
   ],
   "source": [
    "if 5 > 2:\n",
    "print(\"Five is greater than two!\") #there is an error here because of no indentation. At a minimum there must be one indent."
   ]
  },
  {
   "cell_type": "code",
   "execution_count": 9,
   "id": "e0075efc-51a4-40db-bcff-8102e47d69a4",
   "metadata": {},
   "outputs": [
    {
     "name": "stdout",
     "output_type": "stream",
     "text": [
      "Five is greater than two!\n",
      "Five is greater than two!\n"
     ]
    }
   ],
   "source": [
    "if 5>2:\n",
    "    print(\"Five is greater than two!\")\n",
    "if 5>2:\n",
    "       print (\"Five is greater than two!\")"
   ]
  },
  {
   "cell_type": "code",
   "execution_count": 10,
   "id": "627dbe95-513f-4a65-8f81-620767f4d304",
   "metadata": {},
   "outputs": [],
   "source": [
    "#Python variables, variables are created when you assign a value to it.\n",
    "\n",
    "x=5\n",
    "y= \"Hello World!\""
   ]
  },
  {
   "cell_type": "code",
   "execution_count": 13,
   "id": "4a6329ed-fcfe-4daa-b53a-456e49cd777f",
   "metadata": {},
   "outputs": [
    {
     "name": "stdout",
     "output_type": "stream",
     "text": [
      "10\n",
      "Suroor\n",
      "Hello World!\n"
     ]
    }
   ],
   "source": [
    "x=10\n",
    "y=\"Suroor\"\n",
    "z=\"Hello World!\"\n",
    "print (x)\n",
    "print (y)\n",
    "print (z)"
   ]
  },
  {
   "cell_type": "code",
   "execution_count": 14,
   "id": "2c37c924-e76b-4f33-9e3e-263029efea40",
   "metadata": {},
   "outputs": [
    {
     "name": "stdout",
     "output_type": "stream",
     "text": [
      "Ahmed\n"
     ]
    }
   ],
   "source": [
    "#Variables can be changed \n",
    "\n",
    "x=10\n",
    "x=\"Ahmed\"\n",
    "print (x)"
   ]
  },
  {
   "cell_type": "code",
   "execution_count": 16,
   "id": "628b68c9-3fd2-4d60-861c-366357323945",
   "metadata": {},
   "outputs": [
    {
     "name": "stdout",
     "output_type": "stream",
     "text": [
      "3\n",
      "3\n",
      "3.0\n"
     ]
    }
   ],
   "source": [
    "x = str(3)    # x will be '3'\n",
    "y = int(3)    # y will be 3\n",
    "z = float(3)  # z will be 3.0\n",
    "print(x)\n",
    "print(y)\n",
    "print(z)"
   ]
  },
  {
   "cell_type": "code",
   "execution_count": 17,
   "id": "ad5a3e4e-f80a-4c98-ab0a-d9cb8064a7b5",
   "metadata": {},
   "outputs": [
    {
     "name": "stdout",
     "output_type": "stream",
     "text": [
      "<class 'int'>\n",
      "<class 'str'>\n"
     ]
    }
   ],
   "source": [
    "# the type() function will show you the data type of a variable. \n",
    "x = 5\n",
    "y = \"John\"\n",
    "print(type(x))\n",
    "print(type(y))"
   ]
  },
  {
   "cell_type": "code",
   "execution_count": 19,
   "id": "ae469913-7725-49cb-bdd2-3c13eb28deb9",
   "metadata": {},
   "outputs": [
    {
     "name": "stdout",
     "output_type": "stream",
     "text": [
      "10\n",
      "Suroor\n"
     ]
    }
   ],
   "source": [
    "# Variable names are case sensitive\n",
    "a=10\n",
    "A=\"Suroor\"\n",
    "print (a)\n",
    "print (A)"
   ]
  },
  {
   "cell_type": "code",
   "execution_count": 21,
   "id": "d842ec76-f6d2-4be2-9754-d1151434679f",
   "metadata": {},
   "outputs": [
    {
     "name": "stdout",
     "output_type": "stream",
     "text": [
      "Mango\n",
      "Cherry\n",
      "Pineapple\n"
     ]
    }
   ],
   "source": [
    "#You can assign multiple variables in one line\n",
    "x,y,z = \"Mango\", \"Cherry\", \"Pineapple\"\n",
    "print (x)\n",
    "print (y)\n",
    "print (z)"
   ]
  },
  {
   "cell_type": "code",
   "execution_count": 23,
   "id": "94ce2350-da2f-45cb-a7d2-983efa1cfedc",
   "metadata": {},
   "outputs": [
    {
     "name": "stdout",
     "output_type": "stream",
     "text": [
      "Orange\n",
      "Orange\n",
      "Orange\n"
     ]
    }
   ],
   "source": [
    "#You can assign one value to multiple variables in one line\n",
    "x=y=z = \"Orange\"\n",
    "print (x)\n",
    "print (y)\n",
    "print(z)"
   ]
  },
  {
   "cell_type": "code",
   "execution_count": 24,
   "id": "4f883ff1-66e2-47f4-a35b-505144dea01c",
   "metadata": {},
   "outputs": [
    {
     "name": "stdout",
     "output_type": "stream",
     "text": [
      "apple\n",
      "banana\n",
      "cherry\n"
     ]
    }
   ],
   "source": [
    "# Unpack a Collection of values, Python allows you to extract the values into variables\n",
    "fruits = [\"apple\", \"banana\", \"cherry\"]\n",
    "x, y, z = fruits\n",
    "print(x)\n",
    "print(y)\n",
    "print(z)"
   ]
  },
  {
   "cell_type": "code",
   "execution_count": null,
   "id": "45af35a0-ffed-4114-911c-088220026878",
   "metadata": {},
   "outputs": [],
   "source": []
  }
 ],
 "metadata": {
  "kernelspec": {
   "display_name": "Python [conda env:anaconda3] *",
   "language": "python",
   "name": "conda-env-anaconda3-py"
  },
  "language_info": {
   "codemirror_mode": {
    "name": "ipython",
    "version": 3
   },
   "file_extension": ".py",
   "mimetype": "text/x-python",
   "name": "python",
   "nbconvert_exporter": "python",
   "pygments_lexer": "ipython3",
   "version": "3.13.5"
  }
 },
 "nbformat": 4,
 "nbformat_minor": 5
}
